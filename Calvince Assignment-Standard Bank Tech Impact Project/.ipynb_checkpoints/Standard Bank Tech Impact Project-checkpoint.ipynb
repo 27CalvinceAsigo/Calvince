{
 "cells": [
  {
   "cell_type": "markdown",
   "id": "77c877f9",
   "metadata": {},
   "source": [
    "# Standard Bank Tech Impact Project"
   ]
  },
  {
   "cell_type": "markdown",
   "id": "c59104d8",
   "metadata": {},
   "source": [
    "## 1. Exploratory data analysis "
   ]
  },
  {
   "cell_type": "markdown",
   "id": "4aad17f9",
   "metadata": {},
   "source": [
    "### Understanding the problem"
   ]
  },
  {
   "cell_type": "markdown",
   "id": "4addd0e8",
   "metadata": {},
   "source": [
    "According to the Uganda FinScope 2018 survey findings, 46% (8.5 million) adults borrowed money during the 12-month\n",
    "period. The majority borrowing to cover regular living expenses (such as education) during low-income periods. \n",
    "\n",
    "Further, the largest source of borrowing is from informal lenders:\n",
    "\n",
    "        1. Savings groups, \n",
    "        \n",
    "        2. Burial societies,\n",
    "        \n",
    "        3. Community-based money lenders etc.\n",
    "        \n",
    "Xente is a Ugandan e-commerce startup that makes it easy for consumers to make payments, get loans,and shop using\n",
    "simply a mobile phone.\n",
    "\n",
    "The objective of this project is to create a machine learning model to predict which individuals are most \n",
    "likely to default on their loans, based on their loan repayment behaviour and ecommerce transaction activity."
   ]
  },
  {
   "cell_type": "markdown",
   "id": "5135f8d6",
   "metadata": {},
   "source": [
    "### Type of the problem"
   ]
  },
  {
   "cell_type": "markdown",
   "id": "e391837c",
   "metadata": {},
   "source": [
    "Type of the Problem\n",
    "\n",
    "It is a classification problem where we have to predict which individuals are most likely to default on their loans,\n",
    "based on their loan repayment behaviour and ecommerce transaction activity.\n",
    "\n"
   ]
  },
  {
   "cell_type": "markdown",
   "id": "04ac3036",
   "metadata": {},
   "source": [
    "### Hypothesis Generation"
   ]
  },
  {
   "cell_type": "markdown",
   "id": "9092eeec",
   "metadata": {},
   "source": [
    "1. Few people paid back their loans within specified time.\n",
    "\n",
    "\n",
    "2. Most of the money they had loaned was not used for business purposes.\n",
    "\n",
    "\n",
    "3. The people who use their loans for non_business activities are unlikely to payback their loans.\n",
    "\n",
    "\n",
    "4. The people who use their loans wisely are able to pay back their loans within specified time.\n",
    "\n",
    "\n",
    "5. The banks are unable to improve individual loans because of failure to meet the rules."
   ]
  },
  {
   "cell_type": "code",
   "execution_count": null,
   "id": "1868daa6",
   "metadata": {},
   "outputs": [],
   "source": [
    "# Loading important packages\n",
    "\n",
    "import numpy as np\n",
    "import pandas as pd\n",
    "import seaborn as sns\n",
    "import matplotlib.pyplot as plt\n",
    "plt.rcParams[\"axes.labelsize\"] = 18\n",
    "import warnings\n",
    "warnings.filterwarnings('ignore')\n",
    "%matplotlib inline "
   ]
  },
  {
   "cell_type": "code",
   "execution_count": null,
   "id": "f2a51af0",
   "metadata": {},
   "outputs": [],
   "source": [
    "# importing the dataset\n",
    "\n",
    "data = pd.read_csv('/home/valentineiscoming/Pictures/lateness/lateness assignment/Train.csv')"
   ]
  },
  {
   "cell_type": "code",
   "execution_count": null,
   "id": "3d925456",
   "metadata": {
    "scrolled": true
   },
   "outputs": [],
   "source": [
    "# viewing first five rows in the dataset\n",
    "\n",
    "data.head()"
   ]
  },
  {
   "cell_type": "code",
   "execution_count": null,
   "id": "f53c68ab",
   "metadata": {},
   "outputs": [],
   "source": [
    "# Understanding the columns from variable definitions\n",
    "\n",
    "variable_definitions = pd.read_csv('/home/valentineiscoming/Pictures/lateness/lateness assignment/VariableDefinitions.csv')\n",
    "\n",
    "variable_definitions"
   ]
  },
  {
   "cell_type": "code",
   "execution_count": null,
   "id": "7e2c799c",
   "metadata": {},
   "outputs": [],
   "source": [
    "# view its shape\n",
    "\n",
    "print(f'the shape is: {data.shape}')"
   ]
  },
  {
   "cell_type": "code",
   "execution_count": null,
   "id": "24682000",
   "metadata": {},
   "outputs": [],
   "source": [
    "# viewing all columns\n",
    "\n",
    "list(data.columns)"
   ]
  },
  {
   "cell_type": "code",
   "execution_count": null,
   "id": "b907f99c",
   "metadata": {},
   "outputs": [],
   "source": [
    "# more information about columns - datatypes\n",
    "\n",
    "data.info()"
   ]
  },
  {
   "cell_type": "code",
   "execution_count": null,
   "id": "1e496085",
   "metadata": {},
   "outputs": [],
   "source": [
    "# checking missing values\n",
    "\n",
    "data.isna().sum()"
   ]
  },
  {
   "cell_type": "markdown",
   "id": "7c439c5b",
   "metadata": {},
   "source": [
    "### Univariate analysis"
   ]
  },
  {
   "cell_type": "markdown",
   "id": "ce522f6c",
   "metadata": {},
   "source": [
    "### Dealing with Categorical features"
   ]
  },
  {
   "cell_type": "code",
   "execution_count": null,
   "id": "c2dfc8da",
   "metadata": {},
   "outputs": [],
   "source": [
    "# view the target\n",
    "\n",
    "data['IsDefaulted'].value_counts()"
   ]
  },
  {
   "cell_type": "code",
   "execution_count": null,
   "id": "66c57001",
   "metadata": {},
   "outputs": [],
   "source": [
    "# Explore target distribution\n",
    "\n",
    "sns.catplot('IsDefaulted', kind='count', data=data)"
   ]
  },
  {
   "cell_type": "markdown",
   "id": "2e3deddc",
   "metadata": {},
   "source": [
    "where :\n",
    "    \n",
    "    1.0 - means defaulted to agreed payback time\n",
    "    \n",
    "    0.0 - means not defaulted to agreed payback time\n",
    "    \n",
    "Few people payback their loans within specified time.\n",
    "    "
   ]
  },
  {
   "cell_type": "code",
   "execution_count": null,
   "id": "7ef7de8c",
   "metadata": {},
   "outputs": [],
   "source": [
    "# Explore IsThirdPartyConfirmed distribution\n",
    "\n",
    "sns.catplot('IsThirdPartyConfirmed', kind='count', data=data)"
   ]
  },
  {
   "cell_type": "markdown",
   "id": "917714b5",
   "metadata": {},
   "source": [
    "where :\n",
    "\n",
    "1.0 - means loan order succeeded on platform\n",
    "\n",
    "0.0 - means loan order not succeeded on platform\n",
    "\n",
    "Greater number of loan order succeeded on platform."
   ]
  },
  {
   "cell_type": "code",
   "execution_count": null,
   "id": "a104c842",
   "metadata": {},
   "outputs": [],
   "source": [
    "# Explore IsThirdPartyConfirmed distribution\n",
    "\n",
    "sns.catplot('SubscriptionId', kind='count', data=data)\n",
    "\n",
    "plt.xticks(rotation = 90)"
   ]
  },
  {
   "cell_type": "markdown",
   "id": "c57d8f8e",
   "metadata": {},
   "source": [
    "SubscriptionId_7 recorded highest subscriptions compared t0 SubscriptionId_2\n"
   ]
  },
  {
   "cell_type": "code",
   "execution_count": null,
   "id": "b3d587e0",
   "metadata": {},
   "outputs": [],
   "source": [
    "# Explore CurrencyCode Distribution\n",
    "\n",
    "sns.catplot('CurrencyCode', kind='count', data=data)"
   ]
  },
  {
   "cell_type": "markdown",
   "id": "9a9cc771",
   "metadata": {},
   "source": [
    "The people surveyed recorded the use of Ugandan shilings(UGX) during the payment of their loans."
   ]
  },
  {
   "cell_type": "code",
   "execution_count": null,
   "id": "be83a202",
   "metadata": {},
   "outputs": [],
   "source": [
    "# Explore CountryCode distribution\n",
    "\n",
    "sns.catplot('CountryCode', kind='count', data=data)"
   ]
  },
  {
   "cell_type": "markdown",
   "id": "e54725fa",
   "metadata": {},
   "source": [
    "The people surveyed use the Ugandan Country code to access mobile services."
   ]
  },
  {
   "cell_type": "code",
   "execution_count": null,
   "id": "fc5d07eb",
   "metadata": {},
   "outputs": [],
   "source": [
    "# Explore ProviderId distribution\n",
    "\n",
    "sns.catplot('ProviderId', kind='count', data=data)"
   ]
  },
  {
   "cell_type": "markdown",
   "id": "aba9a451",
   "metadata": {},
   "source": [
    "There is only one provider of the services."
   ]
  },
  {
   "cell_type": "code",
   "execution_count": null,
   "id": "a3c85f5b",
   "metadata": {},
   "outputs": [],
   "source": [
    "# Explore ProductId distribution\n",
    "\n",
    "sns.catplot('ProductId', kind='count', data=data)\n",
    "\n",
    "plt.xticks(rotation=90)"
   ]
  },
  {
   "cell_type": "markdown",
   "id": "28f79abb",
   "metadata": {},
   "source": [
    "Product_3 was highly purchased compared to others."
   ]
  },
  {
   "cell_type": "code",
   "execution_count": null,
   "id": "0767fe58",
   "metadata": {},
   "outputs": [],
   "source": [
    "# Explore ProductCategory distribution\n",
    "\n",
    "sns.catplot('ProductCategory', kind='count', data=data)\n",
    "\n",
    "plt.xticks(rotation=90)"
   ]
  },
  {
   "cell_type": "markdown",
   "id": "64889a70",
   "metadata": {},
   "source": [
    "The surveyed people mostly accessed airtime services."
   ]
  },
  {
   "cell_type": "code",
   "execution_count": null,
   "id": "326b4fbf",
   "metadata": {},
   "outputs": [],
   "source": [
    "# Explore ChannelId distribution\n",
    "\n",
    "sns.catplot('ChannelId', kind='count', data=data)"
   ]
  },
  {
   "cell_type": "markdown",
   "id": "aa11c405",
   "metadata": {},
   "source": [
    "The people surved use the Xente Paylater on any other channel."
   ]
  },
  {
   "cell_type": "code",
   "execution_count": null,
   "id": "53b173e5",
   "metadata": {},
   "outputs": [],
   "source": [
    "# Explore TransactionStatus distribution\n",
    "\n",
    "sns.catplot('TransactionStatus', kind='count', data=data)"
   ]
  },
  {
   "cell_type": "markdown",
   "id": "59d7978f",
   "metadata": {},
   "source": [
    "where\n",
    "\n",
    "    1- Loan accepted status accepted\n",
    "    \n",
    "    0- Loan accepted status rejected\n",
    "\n",
    "    Most people were granted loans."
   ]
  },
  {
   "cell_type": "code",
   "execution_count": null,
   "id": "a4efe746",
   "metadata": {},
   "outputs": [],
   "source": [
    "# Explore Currency distribution\n",
    "\n",
    "sns.catplot('Currency', kind='count', data=data)"
   ]
  },
  {
   "cell_type": "markdown",
   "id": "7c10df48",
   "metadata": {},
   "source": [
    "It shows Ugandan Shillings Denominations."
   ]
  },
  {
   "cell_type": "code",
   "execution_count": null,
   "id": "01ea304a",
   "metadata": {},
   "outputs": [],
   "source": [
    "# Explore IsFinalPayBack distribution\n",
    "\n",
    "sns.catplot('IsFinalPayBack', kind='count', data=data)"
   ]
  },
  {
   "cell_type": "markdown",
   "id": "526688b5",
   "metadata": {},
   "source": [
    "where:\n",
    "    \n",
    "    1-have done their last payback installment\n",
    "    \n",
    "    0-have not done their last payback installment\n",
    "    \n",
    "Most people had done the last payback installment."
   ]
  },
  {
   "cell_type": "code",
   "execution_count": null,
   "id": "1b5d0c37",
   "metadata": {},
   "outputs": [],
   "source": [
    "# Explore InvestorId distribution\n",
    "\n",
    "sns.catplot('InvestorId', kind='count', data=data)"
   ]
  },
  {
   "cell_type": "markdown",
   "id": "e9404bd2",
   "metadata": {},
   "source": [
    "InvestorId_1 has issued loans to many customers."
   ]
  },
  {
   "cell_type": "markdown",
   "id": "aac9d5bb",
   "metadata": {},
   "source": [
    "### Dealing with Numerical Features"
   ]
  },
  {
   "cell_type": "code",
   "execution_count": null,
   "id": "f09ccfa8",
   "metadata": {},
   "outputs": [],
   "source": [
    "# Explore Amount distribution \n",
    "\n",
    "plt.figure(figsize=(10, 6))\n",
    "data.AmountLoan.hist() \n",
    "plt.xlabel('AmountLoan')"
   ]
  },
  {
   "cell_type": "markdown",
   "id": "5ef6d007",
   "metadata": {},
   "source": [
    "Most people borrowed between 0 to 0.25e6 Ugandan Shilling"
   ]
  },
  {
   "cell_type": "code",
   "execution_count": null,
   "id": "08afd2d9",
   "metadata": {},
   "outputs": [],
   "source": [
    "# Explore Value distribution \n",
    "\n",
    "plt.figure(figsize=(10, 6))\n",
    "data.Value.hist() \n",
    "plt.xlabel('Value')"
   ]
  },
  {
   "cell_type": "markdown",
   "id": "5c467892",
   "metadata": {},
   "source": [
    "The value of transactions recorded most was between 0 to 0.25e6 Ugandan Shillings."
   ]
  },
  {
   "cell_type": "code",
   "execution_count": null,
   "id": "be284d6e",
   "metadata": {},
   "outputs": [],
   "source": [
    "# Explore Amount distribution \n",
    "\n",
    "plt.figure(figsize=(10, 6))\n",
    "data.Amount.hist() \n",
    "plt.xlabel('Amount')"
   ]
  },
  {
   "cell_type": "markdown",
   "id": "a805944b",
   "metadata": {},
   "source": [
    "The value of Transactions with Charges recorded most was between -0.25e6 to 0 Ugandan Shillings."
   ]
  },
  {
   "cell_type": "markdown",
   "id": "e6f5bb79",
   "metadata": {},
   "source": [
    "### Bivariate Analysis"
   ]
  },
  {
   "cell_type": "code",
   "execution_count": null,
   "id": "3d93afb2",
   "metadata": {},
   "outputs": [],
   "source": [
    "# IsThirdPartyConfirmed  vs IsDefaulted\n",
    "\n",
    "plt.figure(figsize=(16, 6))\n",
    "sns.countplot('IsThirdPartyConfirmed', hue= 'IsDefaulted', data=data)\n",
    "plt.xticks(\n",
    "    fontweight='light',\n",
    "    fontsize='x-large'  \n",
    ")\n"
   ]
  },
  {
   "cell_type": "markdown",
   "id": "14309309",
   "metadata": {},
   "source": [
    "where:\n",
    "    \n",
    "    0-Loan order succeeded on platform.\n",
    "    \n",
    "    1-Loan order not succeeded on platform.\n",
    "    \n",
    "    There were few people who defaulted to the agreed payback time after their loan order succeeded on platform."
   ]
  },
  {
   "cell_type": "code",
   "execution_count": null,
   "id": "f6670536",
   "metadata": {},
   "outputs": [],
   "source": [
    "#   SubscriptionId vs IsDefaulted\n",
    "\n",
    "plt.figure(figsize=(16, 6))\n",
    "sns.countplot('SubscriptionId', hue= 'IsDefaulted', data=data)\n",
    "plt.xticks(\n",
    "    fontweight='light',\n",
    "    fontsize='x-large'  \n",
    ")\n"
   ]
  },
  {
   "cell_type": "markdown",
   "id": "afbe6b3f",
   "metadata": {},
   "source": [
    "SubscriptionId_6 recorded many people who defaulted to the agreed payback time."
   ]
  },
  {
   "cell_type": "code",
   "execution_count": null,
   "id": "170ce4cd",
   "metadata": {},
   "outputs": [],
   "source": [
    "#   ProductId vs IsDefaulted\n",
    "\n",
    "plt.figure(figsize=(16, 6))\n",
    "sns.countplot('ProductId', hue= 'IsDefaulted', data=data)\n",
    "plt.xticks(\n",
    "    rotation=90,\n",
    "    fontweight='light',\n",
    "    fontsize='x-large'  \n",
    ")"
   ]
  },
  {
   "cell_type": "markdown",
   "id": "1415bb26",
   "metadata": {},
   "source": [
    "The people who bought productId_18 defaulted to the agreed payback time."
   ]
  },
  {
   "cell_type": "code",
   "execution_count": null,
   "id": "ccd29b79",
   "metadata": {},
   "outputs": [],
   "source": [
    "# ProductCategory vs IsDefaulted\n",
    "\n",
    "plt.figure(figsize=(16, 6))\n",
    "sns.countplot('ProductCategory', hue= 'IsDefaulted', data=data)\n",
    "plt.xticks(\n",
    "    fontweight='light',\n",
    "    fontsize='x-large'  \n",
    ")"
   ]
  },
  {
   "cell_type": "markdown",
   "id": "9831fb1f",
   "metadata": {},
   "source": [
    "The people who purchased retail type of product defaulted to the agreed payback time."
   ]
  },
  {
   "cell_type": "code",
   "execution_count": null,
   "id": "d7511d22",
   "metadata": {},
   "outputs": [],
   "source": [
    "#   TransactionStatus vs IsDefaulted\n",
    "\n",
    "plt.figure(figsize=(16, 6))\n",
    "sns.countplot('TransactionStatus', hue= 'IsDefaulted', data=data)\n",
    "plt.xticks(\n",
    "    fontweight='light',\n",
    "    fontsize='x-large'  \n",
    ")"
   ]
  },
  {
   "cell_type": "markdown",
   "id": "39d4df2d",
   "metadata": {},
   "source": [
    "Few people who received load defaulted to the agreed payback time."
   ]
  },
  {
   "cell_type": "code",
   "execution_count": null,
   "id": "6e1fbb75",
   "metadata": {},
   "outputs": [],
   "source": [
    "#   IsFinalPayBack vs IsDefaulted\n",
    "\n",
    "plt.figure(figsize=(16, 6))\n",
    "sns.countplot('IsFinalPayBack', hue= 'IsDefaulted', data=data)\n",
    "plt.xticks(\n",
    "    fontweight='light',\n",
    "    fontsize='x-large'  \n",
    ")"
   ]
  },
  {
   "cell_type": "markdown",
   "id": "afd65e26",
   "metadata": {},
   "source": [
    "where:\n",
    "\n",
    "0-Not last payment installment.\n",
    "\n",
    "1-Last payment installment.\n",
    "\n",
    "Very few had their final payment installments."
   ]
  },
  {
   "cell_type": "code",
   "execution_count": null,
   "id": "fd872cf9",
   "metadata": {},
   "outputs": [],
   "source": [
    "#   InvestorId vs IsDefaulted\n",
    "\n",
    "plt.figure(figsize=(16, 6))\n",
    "sns.countplot('InvestorId', hue= 'IsDefaulted', data=data)\n",
    "plt.xticks(\n",
    "    fontweight='light',\n",
    "    fontsize='x-large'  \n",
    ")"
   ]
  },
  {
   "cell_type": "markdown",
   "id": "de3c7ee3",
   "metadata": {},
   "source": [
    "InvestorId_2 recorded highest number of people who defaulted to agreed payback time."
   ]
  },
  {
   "cell_type": "markdown",
   "id": "594abf21",
   "metadata": {},
   "source": [
    "## Results"
   ]
  },
  {
   "cell_type": "markdown",
   "id": "a968818b",
   "metadata": {},
   "source": [
    "1. Few people paid back their loans within specified time - True\n",
    "\n",
    "\n",
    "2. Most of the money they had loaned was not used for business purposes - True\n",
    "\n",
    "\n",
    "3. The people who use their loans for non_business activities are unlikely to payback their loans - True\n",
    "\n",
    "\n",
    "4. The people who use their loans wisely are able to pay back their loans within specified time - True\n",
    "\n",
    "\n",
    "5. The banks are unable to improve individual loans because of failure to meet the rules-True "
   ]
  },
  {
   "cell_type": "markdown",
   "id": "758073e1",
   "metadata": {},
   "source": [
    "## Feature Engineering "
   ]
  },
  {
   "cell_type": "markdown",
   "id": "06b29ad8",
   "metadata": {},
   "source": [
    "### Handling missing values"
   ]
  },
  {
   "cell_type": "code",
   "execution_count": null,
   "id": "83013c0f",
   "metadata": {},
   "outputs": [],
   "source": [
    "from sklearn.impute import SimpleImputer\n",
    "\n",
    "# max fill function for categorical columns \n",
    "\n",
    "data['IssuedDateLoan'].fillna(data['IssuedDateLoan'].value_counts().idxmax(),inplace=True)\n",
    "data['Currency'].fillna(data['Currency'].value_counts().idxmax(),inplace=True)\n",
    "data['LoanId'].fillna(data['LoanId'].value_counts().idxmax(),inplace=True)\n",
    "data['PaidOnDate'].fillna(data['PaidOnDate'].value_counts().idxmax(),inplace=True)\n",
    "data['InvestorId'].fillna(data['InvestorId'].value_counts().idxmax(),inplace=True)\n",
    "data['DueDate'].fillna(data['DueDate'].value_counts().idxmax(),inplace=True)\n",
    "data['LoanApplicationId'].fillna(data['LoanApplicationId'].value_counts().idxmax(),inplace=True)\n",
    "data['PayBackId'].fillna(data['PayBackId'].value_counts().idxmax(),inplace=True)\n",
    "data['ThirdPartyId'].fillna(data['ThirdPartyId'].value_counts().idxmax(),inplace=True)\n",
    "data['IsThirdPartyConfirmed'].fillna(data['IsThirdPartyConfirmed'].value_counts().idxmax(),inplace=True)\n",
    "data['IsDefaulted'].fillna(data['IsDefaulted'].value_counts().idxmax(),inplace=True)\n",
    "data['IsFinalPayBack'].fillna(data['IsFinalPayBack'].value_counts().idxmax(),inplace=True)\n",
    "\n",
    "# filling missing values with mean of the column(numerical features)\n",
    "\n",
    "data=data.fillna(data['AmountLoan'].mean())\n",
    "\n"
   ]
  },
  {
   "cell_type": "code",
   "execution_count": null,
   "id": "c465668a",
   "metadata": {
    "scrolled": true
   },
   "outputs": [],
   "source": [
    "# checking if missing values have remained\n",
    "\n",
    "data.isna().sum().sum()"
   ]
  },
  {
   "cell_type": "code",
   "execution_count": null,
   "id": "ac939e22",
   "metadata": {},
   "outputs": [],
   "source": [
    "data.head()"
   ]
  },
  {
   "cell_type": "code",
   "execution_count": null,
   "id": "553b8c58",
   "metadata": {},
   "outputs": [],
   "source": [
    "# dropping features\n",
    "\n",
    "data = data.drop('ChannelId', axis=1)\n",
    "data = data.drop('Currency', axis=1)\n",
    "data = data.drop('CurrencyCode', axis=1)\n",
    "data = data.drop('CountryCode', axis=1)\n",
    "data = data.drop('ProviderId', axis=1)\n",
    "data = data.drop('CustomerId', axis=1)\n",
    "data = data.drop('TransactionId',axis=1)\n",
    "data = data.drop('TransactionStartTime',axis=1)\n",
    "data = data.drop('BatchId',axis=1)\n",
    "data = data.drop('IssuedDateLoan', axis=1)\n",
    "data = data.drop('LoanId', axis=1)\n",
    "data = data.drop('PaidOnDate', axis=1)\n",
    "data = data.drop('DueDate', axis=1)\n",
    "data = data.drop('PayBackId', axis=1)\n",
    "data = data.drop('LoanApplicationId', axis=1)\n",
    "data = data.drop('ThirdPartyId', axis=1)"
   ]
  },
  {
   "cell_type": "code",
   "execution_count": null,
   "id": "971d6d4b",
   "metadata": {},
   "outputs": [],
   "source": [
    "data.shape"
   ]
  },
  {
   "cell_type": "code",
   "execution_count": null,
   "id": "7f73b9f7",
   "metadata": {},
   "outputs": [],
   "source": [
    "# convert categorical features to numerical features\n",
    "\n",
    "\n",
    "categorical_features = ['SubscriptionId','ProductId',\n",
    "                        'ProductCategory','InvestorId']\n",
    "\n",
    "# One Hot Encoding conversion\n",
    "data = pd.get_dummies(data, prefix_sep='_', columns = categorical_features)\n",
    "\n",
    "\n",
    "#show the shape of the data\n",
    "data.shape"
   ]
  },
  {
   "cell_type": "code",
   "execution_count": null,
   "id": "b1fd9424",
   "metadata": {},
   "outputs": [],
   "source": [
    "list(data.columns)"
   ]
  },
  {
   "cell_type": "code",
   "execution_count": null,
   "id": "846e7dab",
   "metadata": {},
   "outputs": [],
   "source": [
    "data"
   ]
  },
  {
   "cell_type": "code",
   "execution_count": null,
   "id": "e8f43335",
   "metadata": {},
   "outputs": [],
   "source": [
    "# import MinMaxScaler\n",
    "from sklearn.preprocessing import MinMaxScaler\n",
    "\n",
    "# feature scalling by using minmaxscaler method \n",
    "scaler = MinMaxScaler(feature_range=(0, 1))\n",
    "\n",
    "\n",
    "data['Value'] = scaler.fit_transform(data['Value'].values.reshape(-1,1))\n",
    "data['Amount'] = scaler.fit_transform(data['Amount'].values.reshape(-1,1))\n",
    "data['AmountLoan'] = scaler.fit_transform(data['AmountLoan'].values.reshape(-1,1))\n",
    "\n",
    "#show shape \n",
    "data.shape  "
   ]
  },
  {
   "cell_type": "code",
   "execution_count": null,
   "id": "cf13aa70",
   "metadata": {},
   "outputs": [],
   "source": [
    "#Checking first five rows\n",
    "\n",
    "data.head()"
   ]
  },
  {
   "cell_type": "code",
   "execution_count": null,
   "id": "0f880198",
   "metadata": {},
   "outputs": [],
   "source": [
    "# Checking the first row\n",
    "\n",
    "data[:1].values"
   ]
  },
  {
   "cell_type": "markdown",
   "id": "94154b17",
   "metadata": {},
   "source": [
    "# Feature Selection"
   ]
  },
  {
   "cell_type": "markdown",
   "id": "c92c1f01",
   "metadata": {},
   "source": [
    "### Univariate Analysis"
   ]
  },
  {
   "cell_type": "code",
   "execution_count": null,
   "id": "9e1d7a61",
   "metadata": {},
   "outputs": [],
   "source": [
    "# import packages \n",
    "from sklearn.feature_selection import SelectKBest\n",
    "from sklearn.feature_selection import chi2"
   ]
  },
  {
   "cell_type": "code",
   "execution_count": null,
   "id": "1a97e544",
   "metadata": {},
   "outputs": [],
   "source": [
    "#split dataset into features and target\n",
    "target = data['IsDefaulted']\n",
    "features = data.drop('IsDefaulted', axis =1)\n",
    "\n",
    "target\n",
    "features"
   ]
  },
  {
   "cell_type": "code",
   "execution_count": null,
   "id": "6932db00",
   "metadata": {},
   "outputs": [],
   "source": [
    "list(data.columns)"
   ]
  },
  {
   "cell_type": "code",
   "execution_count": null,
   "id": "579c52fe",
   "metadata": {},
   "outputs": [],
   "source": []
  },
  {
   "cell_type": "code",
   "execution_count": null,
   "id": "43219c08",
   "metadata": {},
   "outputs": [],
   "source": [
    "#apply SelectKBest class to extract top 20 best features\n",
    "bestfeatures = SelectKBest(score_func=chi2, k=20)\n",
    "\n",
    "#train to find best features\n",
    "fit = bestfeatures.fit(features,target)\n",
    "\n",
    "#save in the dataframe \n",
    "dfscores = pd.DataFrame(fit.scores_)\n",
    "dfcolumns = pd.DataFrame(features.columns)\n",
    "\n",
    "#concat two dataframes for better visualization \n",
    "featureScores = pd.concat([dfcolumns,dfscores],axis=1)\n",
    "\n",
    "#naming the dataframe columns\n",
    "featureScores.columns = ['Specs','Score'] \n",
    "\n",
    "#print 20 best features \n",
    "print(featureScores.nlargest(20,'Score'))  "
   ]
  },
  {
   "cell_type": "code",
   "execution_count": null,
   "id": "b210557d",
   "metadata": {},
   "outputs": [],
   "source": [
    "# fit and tranform into the 20 best features \n",
    "transformer = SelectKBest(chi2, k=20)\n",
    "\n",
    "#transform from 41 features into top 20 features\n",
    "top_20_features = transformer.fit_transform(features, target)\n",
    "\n",
    "#show the shape \n",
    "top_20_features.shape "
   ]
  },
  {
   "cell_type": "markdown",
   "id": "90b4377e",
   "metadata": {},
   "source": [
    "### Feature Importance"
   ]
  },
  {
   "cell_type": "code",
   "execution_count": null,
   "id": "45aa7a3a",
   "metadata": {},
   "outputs": [],
   "source": [
    "#import package \n",
    "from sklearn.ensemble import ExtraTreesClassifier"
   ]
  },
  {
   "cell_type": "code",
   "execution_count": null,
   "id": "03ac2d37",
   "metadata": {},
   "outputs": [],
   "source": [
    "#create model for training \n",
    "model = ExtraTreesClassifier()\n",
    "model.fit(features,target)\n",
    "\n",
    "#use inbuilt class feature_importances of tree based classifiers\n",
    "print(model.feature_importances_) \n",
    "\n",
    "#plot graph of feature importances for better visualization\n",
    "feature_importances = pd.Series(model.feature_importances_, index=features.columns)\n",
    "\n",
    "# show the first 30 important features \n",
    "\n",
    "fig= plt.figure(figsize=(25,25))\n",
    "sns.set(font_scale = 3)\n",
    "feature_importances.nlargest(30).plot(kind='barh')\n",
    "plt.show() "
   ]
  },
  {
   "cell_type": "markdown",
   "id": "1f414e30",
   "metadata": {},
   "source": [
    "### Correlation Matrix with Heatmap"
   ]
  },
  {
   "cell_type": "code",
   "execution_count": null,
   "id": "920ec70e",
   "metadata": {},
   "outputs": [],
   "source": [
    "#get correlations of each features in dataset\n",
    "plt.figure(figsize=(30,30))\n",
    "\n",
    "#plot heat map\n",
    "sns.set(font_scale = 3)\n",
    "# to show number set annot=True\n",
    "d = sns.heatmap(data.corr(),annot=False, cmap=\"RdYlGn\")\n",
    "\n",
    "#save the figure \n",
    "figure = d.get_figure()\n",
    "figure.savefig(\"heatmap_output.png\")\n",
    "\n",
    "# show the heatamp graph \n",
    "d   "
   ]
  },
  {
   "cell_type": "code",
   "execution_count": null,
   "id": "4a01ea2a",
   "metadata": {},
   "outputs": [],
   "source": [
    "# SHOW CORRELATION OF DATA TO THE TARGET COLUMN \n",
    "features_corr = pd.DataFrame(abs(data.corr()['IsDefaulted']).sort_values(ascending = False)) \n",
    "\n",
    "features_corr "
   ]
  },
  {
   "cell_type": "markdown",
   "id": "52510bb6",
   "metadata": {},
   "source": [
    "# Machine Learning Model"
   ]
  },
  {
   "cell_type": "markdown",
   "id": "8856f75c",
   "metadata": {},
   "source": [
    "### Random Forest Classifier"
   ]
  },
  {
   "cell_type": "code",
   "execution_count": null,
   "id": "64f42457",
   "metadata": {},
   "outputs": [],
   "source": [
    "# splitting the dataset\n",
    "\n",
    "from sklearn.model_selection import train_test_split\n",
    "\n",
    "x_train,x_test,y_train,y_test=train_test_split(features,target,stratify=target,test_size=0.25,random_state=42)"
   ]
  },
  {
   "cell_type": "code",
   "execution_count": null,
   "id": "b331034c",
   "metadata": {},
   "outputs": [],
   "source": [
    "# importing RandomForestClassifier\n",
    "\n",
    "from sklearn.ensemble import RandomForestClassifier\n"
   ]
  },
  {
   "cell_type": "code",
   "execution_count": null,
   "id": "16018dbe",
   "metadata": {},
   "outputs": [],
   "source": [
    "# creating a RF Classifier\n",
    "\n",
    "r_Classifier= RandomForestClassifier(n_estimators = 100)\n",
    "\n",
    "\n",
    "# Training the model on the training dataset\n",
    "# fit function is used to train the model using the training sets as parameters\n",
    "\n",
    "r_Classifier.fit(x_train,y_train)\n",
    "\n",
    "# performing prediction on the test dataset\n",
    "y_predicts = r_Classifier.predict(x_test)\n",
    "\n",
    "\n",
    "# metrics are used to find accuracy or error\n",
    "from sklearn import metrics\n",
    "\n",
    "#using metrics module for accuracy calculation\n",
    "print(\"Accuracy of the model: \", metrics.roc_auc_score(y_test,y_predicts))"
   ]
  },
  {
   "cell_type": "code",
   "execution_count": null,
   "id": "19535d26",
   "metadata": {},
   "outputs": [],
   "source": [
    "from sklearn.metrics import classification_report\n",
    "\n",
    "print(classification_report(y_test,y_predicts))"
   ]
  },
  {
   "cell_type": "code",
   "execution_count": null,
   "id": "8d50637a",
   "metadata": {},
   "outputs": [],
   "source": [
    "import matplotlib.pyplot as plt\n",
    "from sklearn.metrics import plot_confusion_matrix\n",
    "\n",
    "plot_confusion_matrix(r_Classifier,x_test,y_test)\n",
    "plt.show()"
   ]
  },
  {
   "cell_type": "markdown",
   "id": "2424250d",
   "metadata": {},
   "source": [
    "## Since, It is imbalanced we emplore"
   ]
  },
  {
   "cell_type": "code",
   "execution_count": null,
   "id": "7915d4c7",
   "metadata": {},
   "outputs": [],
   "source": [
    "# import SMOTE to balance\n",
    "\n",
    "from imblearn.over_sampling import SMOTE"
   ]
  },
  {
   "cell_type": "code",
   "execution_count": null,
   "id": "6f024ec8",
   "metadata": {},
   "outputs": [],
   "source": [
    "# Creating a oversample \n",
    "\n",
    "oversample = SMOTE()"
   ]
  },
  {
   "cell_type": "code",
   "execution_count": null,
   "id": "a94cfa87",
   "metadata": {},
   "outputs": [],
   "source": [
    "# fiting\n",
    "\n",
    "re_features,re_target = oversample.fit_resample(features,target)"
   ]
  },
  {
   "cell_type": "code",
   "execution_count": null,
   "id": "0b6a0728",
   "metadata": {},
   "outputs": [],
   "source": [
    "# Split the dataset\n",
    "\n",
    "from sklearn.model_selection import train_test_split\n",
    "\n",
    "x_train,x_test,y_train,y_test=train_test_split(re_features,re_target,stratify=re_target,test_size=0.25,random_state=42)"
   ]
  },
  {
   "cell_type": "markdown",
   "id": "3c3e67e9",
   "metadata": {},
   "source": [
    "# importing RandomForestClassifier\n",
    "\n",
    "from sklearn.ensemble import RandomForestClassifier\n"
   ]
  },
  {
   "cell_type": "code",
   "execution_count": null,
   "id": "41c3a1dc",
   "metadata": {},
   "outputs": [],
   "source": [
    "# creating a RF Classifier\n",
    "\n",
    "r_Classifier= RandomForestClassifier(n_estimators = 100)\n",
    "\n",
    "\n",
    "# Training the model on the training dataset\n",
    "# fit function is used to train the model using the training sets as parameters\n",
    "\n",
    "r_Classifier.fit(x_train,y_train)\n",
    "\n",
    "# performing prediction on the test dataset\n",
    "y_predicts = r_Classifier.predict(x_test)\n",
    "\n",
    "\n",
    "# metrics are used to find accuracy or error\n",
    "from sklearn import metrics\n",
    "\n",
    "#using metrics module for accuracy calculation\n",
    "print(\"Accuracy of the model: \", metrics.roc_auc_score(y_test,y_predicts))\n"
   ]
  },
  {
   "cell_type": "code",
   "execution_count": null,
   "id": "3e9d8c6c",
   "metadata": {},
   "outputs": [],
   "source": [
    "from sklearn.metrics import classification_report\n",
    "\n",
    "print(classification_report(y_test,y_predicts))"
   ]
  },
  {
   "cell_type": "code",
   "execution_count": null,
   "id": "0639c474",
   "metadata": {},
   "outputs": [],
   "source": [
    "import matplotlib.pyplot as plt\n",
    "from sklearn.metrics import plot_confusion_matrix\n",
    "\n",
    "plot_confusion_matrix(r_Classifier,x_test,y_test)\n",
    "plt.show()"
   ]
  },
  {
   "cell_type": "markdown",
   "id": "97086822",
   "metadata": {},
   "source": [
    "Accuracy is improved because the closer the AUC is to 1, the better the model.\n",
    "It is balanced.\n"
   ]
  }
 ],
 "metadata": {
  "kernelspec": {
   "display_name": "Python 3 (ipykernel)",
   "language": "python",
   "name": "python3"
  },
  "language_info": {
   "codemirror_mode": {
    "name": "ipython",
    "version": 3
   },
   "file_extension": ".py",
   "mimetype": "text/x-python",
   "name": "python",
   "nbconvert_exporter": "python",
   "pygments_lexer": "ipython3",
   "version": "3.9.12"
  }
 },
 "nbformat": 4,
 "nbformat_minor": 5
}
